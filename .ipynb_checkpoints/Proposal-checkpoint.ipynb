{
 "cells": [
  {
   "cell_type": "markdown",
   "id": "b527f749-2280-4e3e-bfa6-e99a1739fe11",
   "metadata": {},
   "source": [
    "# STAT 201 Group 1 Proposal\n",
    "\n",
    "*Group Members: Cindy Cui, Devvrat Tiwari, Blasius Boniarga, Nilay Kumar, Richard Luo.*\n",
    "\n",
    "# Introduction\n",
    "\n",
    "Music is something that everyone can relate to - and if done right, a song can become so immensely popular that it is known by hundreds of millions of people around the world. What makes a song this popular? Can we predict what characteristics make a song more popular? \n",
    "\n",
    "The question we will try to answer with our project is, \n",
    "\n",
    "**Are songs that are more danceable and more negative in mood more popular?**\n",
    "\n",
    "We chose our two variables, danceability and song mood based on the research of Askin and Mauskapf (2014) (1), and Interiano, Kazemi, and Wang et al (2018) (2). They both show that danceability and song mood have positive correlations with the popularity of modern pop songs. \n",
    "\n",
    "We define a song as being \"more popular\" if it has more streams.  \n",
    "\n",
    "## Describing our Dataset\n",
    "Our dataset includes all the songs that have been on the Top 200 Weekly (Global) charts of Spotify in 2020 & 2021. We consider our population to be any song released onto the internet, and our dataset to be our sample of this population. \n",
    "\n",
    "Each song in our dataset is one observation, and the columns are features of the songs, such as the highest position that a song has been in the Spotify Top 200 Weekly Global Charts in 2020 and 2021, the number of times a song has made this chart, the number of streams the song has, the popularity of the track, the overall tempo of the track, and more. \n",
    "\n",
    "## Variables of Interest\n",
    "In particular, we are interested in the danceability and mood (valence) of a song. \n",
    "\n",
    "### Danceability\n",
    "Danceability describes how suitable a song is for dancing, and is based on musical elements like tempo, rhythmic stability, beat strenght, and general regularity. A value of 0.0 is least danceable and 1.0 is most danceable.\n",
    "\n",
    "### Valence\n",
    "Valence describes the positiveness of a song. A value of 0.0 describes a more negative (sad, depressed, angry) song, and a value of 1.0 describes a more positive (happy, cheerful, euphoric) song. "
   ]
  },
  {
   "cell_type": "markdown",
   "id": "aff3f75b-ae2f-42b3-abfe-2fc9a7e9df83",
   "metadata": {},
   "source": [
    "# Preliminary Results\n",
    "\n",
    "We begin by analyzing our data. First, we load our libraries and set our seed. "
   ]
  },
  {
   "cell_type": "code",
   "execution_count": 31,
   "id": "2b430271-1d7a-4293-b59d-6a0a5769cfff",
   "metadata": {
    "tags": []
   },
   "outputs": [],
   "source": [
    "library(tidyverse)\n",
    "library(repr)\n",
    "library(tidymodels)\n",
    "library(readr)\n",
    "\n",
    "set.seed(1)"
   ]
  },
  {
   "cell_type": "markdown",
   "id": "5c51da25-36fa-4b24-a512-2f4c90fa8b27",
   "metadata": {},
   "source": [
    "Now we read our dataset from the web, and clean and wrangle it into a tidy format. \n",
    "\n",
    "We only keep the columns `valence`, `danceability`, `popularity` and `streams`. "
   ]
  },
  {
   "cell_type": "code",
   "execution_count": 43,
   "id": "d0b7d395-f02c-4016-9e9b-bf98737208b5",
   "metadata": {
    "tags": []
   },
   "outputs": [
    {
     "data": {
      "text/html": [
       "<table class=\"dataframe\">\n",
       "<caption>A tibble: 6 × 4</caption>\n",
       "<thead>\n",
       "\t<tr><th scope=col>Streams</th><th scope=col>Danceability</th><th scope=col>Valence</th><th scope=col>Popularity</th></tr>\n",
       "\t<tr><th scope=col>&lt;dbl&gt;</th><th scope=col>&lt;dbl&gt;</th><th scope=col>&lt;dbl&gt;</th><th scope=col>&lt;dbl&gt;</th></tr>\n",
       "</thead>\n",
       "<tbody>\n",
       "\t<tr><td>48633449</td><td>0.714</td><td>0.589</td><td>100</td></tr>\n",
       "\t<tr><td>47248719</td><td>0.591</td><td>0.478</td><td> 99</td></tr>\n",
       "\t<tr><td>40162559</td><td>0.563</td><td>0.688</td><td> 99</td></tr>\n",
       "\t<tr><td>37799456</td><td>0.808</td><td>0.591</td><td> 98</td></tr>\n",
       "\t<tr><td>33948454</td><td>0.736</td><td>0.894</td><td> 96</td></tr>\n",
       "\t<tr><td>30071134</td><td>0.610</td><td>0.758</td><td> 97</td></tr>\n",
       "</tbody>\n",
       "</table>\n"
      ],
      "text/latex": [
       "A tibble: 6 × 4\n",
       "\\begin{tabular}{llll}\n",
       " Streams & Danceability & Valence & Popularity\\\\\n",
       " <dbl> & <dbl> & <dbl> & <dbl>\\\\\n",
       "\\hline\n",
       "\t 48633449 & 0.714 & 0.589 & 100\\\\\n",
       "\t 47248719 & 0.591 & 0.478 &  99\\\\\n",
       "\t 40162559 & 0.563 & 0.688 &  99\\\\\n",
       "\t 37799456 & 0.808 & 0.591 &  98\\\\\n",
       "\t 33948454 & 0.736 & 0.894 &  96\\\\\n",
       "\t 30071134 & 0.610 & 0.758 &  97\\\\\n",
       "\\end{tabular}\n"
      ],
      "text/markdown": [
       "\n",
       "A tibble: 6 × 4\n",
       "\n",
       "| Streams &lt;dbl&gt; | Danceability &lt;dbl&gt; | Valence &lt;dbl&gt; | Popularity &lt;dbl&gt; |\n",
       "|---|---|---|---|\n",
       "| 48633449 | 0.714 | 0.589 | 100 |\n",
       "| 47248719 | 0.591 | 0.478 |  99 |\n",
       "| 40162559 | 0.563 | 0.688 |  99 |\n",
       "| 37799456 | 0.808 | 0.591 |  98 |\n",
       "| 33948454 | 0.736 | 0.894 |  96 |\n",
       "| 30071134 | 0.610 | 0.758 |  97 |\n",
       "\n"
      ],
      "text/plain": [
       "  Streams  Danceability Valence Popularity\n",
       "1 48633449 0.714        0.589   100       \n",
       "2 47248719 0.591        0.478    99       \n",
       "3 40162559 0.563        0.688    99       \n",
       "4 37799456 0.808        0.591    98       \n",
       "5 33948454 0.736        0.894    96       \n",
       "6 30071134 0.610        0.758    97       "
      ]
     },
     "metadata": {},
     "output_type": "display_data"
    }
   ],
   "source": [
    "spotify_data <- read_csv(\"https://github.com/cinadia/stat-201-project/raw/main/data/spotify_dataset.csv\", show_col_types = FALSE) %>%\n",
    "    select(\"Streams\", \"Danceability\", \"Valence\", \"Popularity\")\n",
    "\n",
    "head(spotify_data)"
   ]
  },
  {
   "cell_type": "markdown",
   "id": "7561a141-342d-440e-8e4d-47dd23eac9ed",
   "metadata": {},
   "source": [
    "Next, we clean and wrangle it into a tidy format."
   ]
  },
  {
   "cell_type": "code",
   "execution_count": 2,
   "id": "3c43a0b7-8a2e-4d07-9ad5-97a7f9dcf5f9",
   "metadata": {
    "tags": []
   },
   "outputs": [],
   "source": [
    "# WRANGLE"
   ]
  },
  {
   "cell_type": "markdown",
   "id": "c4c95ae7-98e8-4d7c-8aa7-68dc4dd56442",
   "metadata": {},
   "source": [
    "We plot our data. **TODO: describe how our plot addresses our question**"
   ]
  },
  {
   "cell_type": "code",
   "execution_count": 3,
   "id": "6f0ad72a-5fa6-452b-a64c-1d6b45f2917d",
   "metadata": {
    "tags": []
   },
   "outputs": [],
   "source": [
    "# PLOT"
   ]
  },
  {
   "cell_type": "markdown",
   "id": "f87892e4-3f66-4273-b459-7c6d36675977",
   "metadata": {},
   "source": [
    "Now we compute estimates of **the parameter we identified across our groups** and present it in the form of a table."
   ]
  },
  {
   "cell_type": "code",
   "execution_count": null,
   "id": "c875881c-a3c3-48b6-9287-855bfc7e0b79",
   "metadata": {},
   "outputs": [],
   "source": [
    "# TODO"
   ]
  },
  {
   "cell_type": "markdown",
   "id": "9b4ae344-f1f5-4034-9c02-2e3b4505554e",
   "metadata": {},
   "source": [
    "# Methods\n",
    "\n",
    "...Our preliminary results are trustworthy because.... \n",
    "\n",
    "...However, our preliminary results are not trustworthy because...\n",
    "\n",
    "Therefore, we plan to conduct a hypothesis test and construct a confidence interval to address these concerns. \n",
    "\n",
    "Our hypothesis test is as follows\n",
    "\n",
    "We will construct a 95% confidence interval "
   ]
  },
  {
   "cell_type": "markdown",
   "id": "223d1d82-6fe5-43aa-b9c5-7d1c9f606052",
   "metadata": {},
   "source": [
    "# Bibliography\n",
    "\n",
    "\n",
    "1. Askin, N., Mauskapf, M. (2014). Cultural Attributes and their Influence on Consumption Patterns in Popular Music. *Social Informatics*. 508-530. doi:10.1007/978-3-319-13734-6_36. \n",
    "\n",
    "2. Interiano, M., Kazemi, K., Wang, L. et al. (2018). Musical trends and predictability of success in contemporary songs in and out of the top charts. *Royal Society Open Science*, *5*. doi:10.1098/rsos.171274. \n"
   ]
  }
 ],
 "metadata": {
  "kernelspec": {
   "display_name": "R",
   "language": "R",
   "name": "ir"
  },
  "language_info": {
   "codemirror_mode": "r",
   "file_extension": ".r",
   "mimetype": "text/x-r-source",
   "name": "R",
   "pygments_lexer": "r",
   "version": "4.2.3"
  }
 },
 "nbformat": 4,
 "nbformat_minor": 5
}
