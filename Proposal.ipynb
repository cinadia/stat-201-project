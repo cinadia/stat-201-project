{
 "cells": [
  {
   "cell_type": "markdown",
   "id": "b527f749-2280-4e3e-bfa6-e99a1739fe11",
   "metadata": {},
   "source": [
    "# STAT 201 Group 1 Proposal\n",
    "\n",
    "# Introduction\n",
    "\n",
    "**TODO: insert background info on our question**\n",
    "\n",
    "The question we will try to answer with our project is, \n",
    "\n",
    "Do more danceable and sadder songs stay popular for longer? \n",
    "\n",
    "We chose our two variables, danceability and song mood based on the research of **insert two papers here**. \n",
    "\n",
    "Our dataset includes all the songs that have been on the Top 200 Weekly (Global) charts of Spotify in 2020 & 2021. Each song is one observation within the dataset, and the columns are features of the songs, such as the highest position that a song has been in the Spotify Top 200 Weekly Global Charts in 2020 and 2021, the number of times a song has made this chart, the approximate number of streams the song has, the popularity of the track (between 0 and 100, with 100 being the most popular), the overall tempo of the track, and more. \n",
    "\n",
    "In particular, we are interested in the danceability and mood of the song, which in our dataset is called *valence*. **DESCRIBE HOW THEY'RE DESCRIBED IN THE DATASET**.   \n"
   ]
  },
  {
   "cell_type": "markdown",
   "id": "aff3f75b-ae2f-42b3-abfe-2fc9a7e9df83",
   "metadata": {},
   "source": [
    "# Preliminary Results\n",
    "\n",
    "First, we read our data into R. **NOTE: DON'T USE UP A LOT OF SPACE**"
   ]
  },
  {
   "cell_type": "code",
   "execution_count": 1,
   "id": "d0b7d395-f02c-4016-9e9b-bf98737208b5",
   "metadata": {
    "tags": []
   },
   "outputs": [],
   "source": [
    "# READ DATA"
   ]
  },
  {
   "cell_type": "markdown",
   "id": "7561a141-342d-440e-8e4d-47dd23eac9ed",
   "metadata": {},
   "source": [
    "Next, we clean and wrangle it into a tidy format."
   ]
  },
  {
   "cell_type": "code",
   "execution_count": 2,
   "id": "3c43a0b7-8a2e-4d07-9ad5-97a7f9dcf5f9",
   "metadata": {
    "tags": []
   },
   "outputs": [],
   "source": [
    "# WRANGLE"
   ]
  },
  {
   "cell_type": "markdown",
   "id": "c4c95ae7-98e8-4d7c-8aa7-68dc4dd56442",
   "metadata": {},
   "source": [
    "We plot our data. **TODO: describe how our plot addresses our question**"
   ]
  },
  {
   "cell_type": "code",
   "execution_count": 3,
   "id": "6f0ad72a-5fa6-452b-a64c-1d6b45f2917d",
   "metadata": {
    "tags": []
   },
   "outputs": [],
   "source": [
    "# PLOT"
   ]
  },
  {
   "cell_type": "markdown",
   "id": "f87892e4-3f66-4273-b459-7c6d36675977",
   "metadata": {},
   "source": [
    "Now we compute estimates of **the parameter we identified across our groups** and present it in the form of a table."
   ]
  },
  {
   "cell_type": "code",
   "execution_count": null,
   "id": "c875881c-a3c3-48b6-9287-855bfc7e0b79",
   "metadata": {},
   "outputs": [],
   "source": [
    "# TODO"
   ]
  },
  {
   "cell_type": "markdown",
   "id": "9b4ae344-f1f5-4034-9c02-2e3b4505554e",
   "metadata": {},
   "source": [
    "# Methods\n",
    "\n",
    "... \n",
    "hypotheses go here... \n",
    ".. so does boostrapping..\n",
    "..asymptotics..."
   ]
  },
  {
   "cell_type": "markdown",
   "id": "223d1d82-6fe5-43aa-b9c5-7d1c9f606052",
   "metadata": {},
   "source": [
    "# Bibliography\n",
    "\n",
    "\n",
    "NOT REAL BIBLIOGRAPHIES, I JUST COPIED: \n",
    "\n",
    "N. Askin and M. Mauskapf, \"Cultural Attributes and Their Influence on Consumption Patterns in Popular Music\", Proceedings of the 6th International Conference SocInfo 2014, pp. 508-530, 2014.: (https://link.springer.com/chapter/10.1007/978-3-319-13734-6_36 )\n",
    "\n",
    "\n",
    "https://royalsocietypublishing.org/doi/10.1098/rsos.171274#d1e854 \n"
   ]
  }
 ],
 "metadata": {
  "kernelspec": {
   "display_name": "R",
   "language": "R",
   "name": "ir"
  },
  "language_info": {
   "codemirror_mode": "r",
   "file_extension": ".r",
   "mimetype": "text/x-r-source",
   "name": "R",
   "pygments_lexer": "r",
   "version": "4.2.3"
  }
 },
 "nbformat": 4,
 "nbformat_minor": 5
}
