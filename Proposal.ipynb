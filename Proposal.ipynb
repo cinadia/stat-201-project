{
 "cells": [
  {
   "cell_type": "markdown",
   "id": "b527f749-2280-4e3e-bfa6-e99a1739fe11",
   "metadata": {},
   "source": [
    "# STAT 201 Group 1 Proposal\n",
    "\n",
    "*Group Members: Cindy Cui, Devvrat Tiwari, Blasius Boniarga, Nilay Kumar, Richard Luo.*\n",
    "\n",
    "# Introduction\n",
    "\n",
    "Music is something that everyone can relate to - and if done right, a song can become so immensely popular that it is known by hundreds of millions of people around the world. What makes a song this popular? Can we predict what characteristics make a song more popular? \n",
    "\n",
    "The question we will try to answer with our project is, \n",
    "\n",
    "Do more danceable and sadder songs stay popular for longer? \n",
    "\n",
    "We chose our two variables, danceability and song mood based on the research of Askin and Mauskapf (2014) (1), and Interiano, Kazemi, and Wang et al (2018) (2). They both show that danceability and song mood have positive correlations with the popularity of modern pop songs. \n",
    "\n",
    "Our dataset includes all the songs that have been on the Top 200 Weekly (Global) charts of Spotify in 2020 & 2021. Each song is one observation within the dataset, and the columns are features of the songs, such as the highest position that a song has been in the Spotify Top 200 Weekly Global Charts in 2020 and 2021, the number of times a song has made this chart, the approximate number of streams the song has, the popularity of the track (between 0 and 100, with 100 being the most popular), the overall tempo of the track, and more. \n",
    "\n",
    "In particular, we are interested in the danceability and mood of the song, which in our dataset is called *valence*. **DESCRIBE HOW THEY'RE DESCRIBED IN THE DATASET**. \n"
   ]
  },
  {
   "cell_type": "markdown",
   "id": "aff3f75b-ae2f-42b3-abfe-2fc9a7e9df83",
   "metadata": {},
   "source": [
    "# Preliminary Results\n",
    "\n",
    "We begin by analyzing our data. First, we load our libraries and set our seed. "
   ]
  },
  {
   "cell_type": "code",
   "execution_count": 1,
   "id": "2b430271-1d7a-4293-b59d-6a0a5769cfff",
   "metadata": {
    "tags": []
   },
   "outputs": [
    {
     "name": "stderr",
     "output_type": "stream",
     "text": [
      "── \u001b[1mAttaching core tidyverse packages\u001b[22m ──────────────────────── tidyverse 2.0.0 ──\n",
      "\u001b[32m✔\u001b[39m \u001b[34mdplyr    \u001b[39m 1.1.3     \u001b[32m✔\u001b[39m \u001b[34mreadr    \u001b[39m 2.1.4\n",
      "\u001b[32m✔\u001b[39m \u001b[34mforcats  \u001b[39m 1.0.0     \u001b[32m✔\u001b[39m \u001b[34mstringr  \u001b[39m 1.5.0\n",
      "\u001b[32m✔\u001b[39m \u001b[34mggplot2  \u001b[39m 3.4.3     \u001b[32m✔\u001b[39m \u001b[34mtibble   \u001b[39m 3.2.1\n",
      "\u001b[32m✔\u001b[39m \u001b[34mlubridate\u001b[39m 1.9.2     \u001b[32m✔\u001b[39m \u001b[34mtidyr    \u001b[39m 1.3.0\n",
      "\u001b[32m✔\u001b[39m \u001b[34mpurrr    \u001b[39m 1.0.1     \n",
      "── \u001b[1mConflicts\u001b[22m ────────────────────────────────────────── tidyverse_conflicts() ──\n",
      "\u001b[31m✖\u001b[39m \u001b[34mdplyr\u001b[39m::\u001b[32mfilter()\u001b[39m masks \u001b[34mstats\u001b[39m::filter()\n",
      "\u001b[31m✖\u001b[39m \u001b[34mdplyr\u001b[39m::\u001b[32mlag()\u001b[39m    masks \u001b[34mstats\u001b[39m::lag()\n",
      "\u001b[36mℹ\u001b[39m Use the conflicted package (\u001b[3m\u001b[34m<http://conflicted.r-lib.org/>\u001b[39m\u001b[23m) to force all conflicts to become errors\n",
      "── \u001b[1mAttaching packages\u001b[22m ────────────────────────────────────── tidymodels 1.1.1 ──\n",
      "\n",
      "\u001b[32m✔\u001b[39m \u001b[34mbroom       \u001b[39m 1.0.5     \u001b[32m✔\u001b[39m \u001b[34mrsample     \u001b[39m 1.2.0\n",
      "\u001b[32m✔\u001b[39m \u001b[34mdials       \u001b[39m 1.2.0     \u001b[32m✔\u001b[39m \u001b[34mtune        \u001b[39m 1.1.2\n",
      "\u001b[32m✔\u001b[39m \u001b[34minfer       \u001b[39m 1.0.4     \u001b[32m✔\u001b[39m \u001b[34mworkflows   \u001b[39m 1.1.3\n",
      "\u001b[32m✔\u001b[39m \u001b[34mmodeldata   \u001b[39m 1.2.0     \u001b[32m✔\u001b[39m \u001b[34mworkflowsets\u001b[39m 1.0.1\n",
      "\u001b[32m✔\u001b[39m \u001b[34mparsnip     \u001b[39m 1.1.1     \u001b[32m✔\u001b[39m \u001b[34myardstick   \u001b[39m 1.2.0\n",
      "\u001b[32m✔\u001b[39m \u001b[34mrecipes     \u001b[39m 1.0.8     \n",
      "\n",
      "── \u001b[1mConflicts\u001b[22m ───────────────────────────────────────── tidymodels_conflicts() ──\n",
      "\u001b[31m✖\u001b[39m \u001b[34mscales\u001b[39m::\u001b[32mdiscard()\u001b[39m masks \u001b[34mpurrr\u001b[39m::discard()\n",
      "\u001b[31m✖\u001b[39m \u001b[34mdplyr\u001b[39m::\u001b[32mfilter()\u001b[39m   masks \u001b[34mstats\u001b[39m::filter()\n",
      "\u001b[31m✖\u001b[39m \u001b[34mrecipes\u001b[39m::\u001b[32mfixed()\u001b[39m  masks \u001b[34mstringr\u001b[39m::fixed()\n",
      "\u001b[31m✖\u001b[39m \u001b[34mdplyr\u001b[39m::\u001b[32mlag()\u001b[39m      masks \u001b[34mstats\u001b[39m::lag()\n",
      "\u001b[31m✖\u001b[39m \u001b[34myardstick\u001b[39m::\u001b[32mspec()\u001b[39m masks \u001b[34mreadr\u001b[39m::spec()\n",
      "\u001b[31m✖\u001b[39m \u001b[34mrecipes\u001b[39m::\u001b[32mstep()\u001b[39m   masks \u001b[34mstats\u001b[39m::step()\n",
      "\u001b[34m•\u001b[39m Use \u001b[32mtidymodels_prefer()\u001b[39m to resolve common conflicts.\n",
      "\n"
     ]
    }
   ],
   "source": [
    "library(tidyverse)\n",
    "library(repr)\n",
    "library(readxl)\n",
    "library(tidymodels)\n",
    "\n",
    "set.seed(1)"
   ]
  },
  {
   "cell_type": "markdown",
   "id": "5c51da25-36fa-4b24-a512-2f4c90fa8b27",
   "metadata": {},
   "source": [
    "Now we read our dataset from the web, and clean and wrangle it into a tidy format. "
   ]
  },
  {
   "cell_type": "code",
   "execution_count": null,
   "id": "d0b7d395-f02c-4016-9e9b-bf98737208b5",
   "metadata": {
    "tags": []
   },
   "outputs": [],
   "source": []
  },
  {
   "cell_type": "markdown",
   "id": "7561a141-342d-440e-8e4d-47dd23eac9ed",
   "metadata": {},
   "source": [
    "Next, we clean and wrangle it into a tidy format."
   ]
  },
  {
   "cell_type": "code",
   "execution_count": 2,
   "id": "3c43a0b7-8a2e-4d07-9ad5-97a7f9dcf5f9",
   "metadata": {
    "tags": []
   },
   "outputs": [],
   "source": [
    "# WRANGLE"
   ]
  },
  {
   "cell_type": "markdown",
   "id": "c4c95ae7-98e8-4d7c-8aa7-68dc4dd56442",
   "metadata": {},
   "source": [
    "We plot our data. **TODO: describe how our plot addresses our question**"
   ]
  },
  {
   "cell_type": "code",
   "execution_count": 3,
   "id": "6f0ad72a-5fa6-452b-a64c-1d6b45f2917d",
   "metadata": {
    "tags": []
   },
   "outputs": [],
   "source": [
    "# PLOT"
   ]
  },
  {
   "cell_type": "markdown",
   "id": "f87892e4-3f66-4273-b459-7c6d36675977",
   "metadata": {},
   "source": [
    "Now we compute estimates of **the parameter we identified across our groups** and present it in the form of a table."
   ]
  },
  {
   "cell_type": "code",
   "execution_count": null,
   "id": "c875881c-a3c3-48b6-9287-855bfc7e0b79",
   "metadata": {},
   "outputs": [],
   "source": [
    "# TODO"
   ]
  },
  {
   "cell_type": "markdown",
   "id": "9b4ae344-f1f5-4034-9c02-2e3b4505554e",
   "metadata": {},
   "source": [
    "# Methods\n",
    "\n",
    "...Our preliminary results are trustworthy because.... \n",
    "\n",
    "...However, our preliminary results are not trustworthy because...\n",
    "\n",
    "Therefore, we plan to conduct a hypothesis test and construct a confidence interval to address these concerns. \n",
    "\n",
    "Our hypothesis test is as follows\n",
    "\n",
    "We will construct a 95% confidence interval "
   ]
  },
  {
   "cell_type": "markdown",
   "id": "223d1d82-6fe5-43aa-b9c5-7d1c9f606052",
   "metadata": {},
   "source": [
    "# Bibliography\n",
    "\n",
    "\n",
    "1. Askin, N., Mauskapf, M. (2014). Cultural Attributes and their Influence on Consumption Patterns in Popular Music. *Social Informatics*. 508-530. doi:10.1007/978-3-319-13734-6_36. \n",
    "\n",
    "2. Interiano, M., Kazemi, K., Wang, L. et al. (2018). Musical trends and predictability of success in contemporary songs in and out of the top charts. *Royal Society Open Science*, *5*. doi:10.1098/rsos.171274. \n"
   ]
  }
 ],
 "metadata": {
  "kernelspec": {
   "display_name": "R",
   "language": "R",
   "name": "ir"
  },
  "language_info": {
   "codemirror_mode": "r",
   "file_extension": ".r",
   "mimetype": "text/x-r-source",
   "name": "R",
   "pygments_lexer": "r",
   "version": "4.2.3"
  }
 },
 "nbformat": 4,
 "nbformat_minor": 5
}
