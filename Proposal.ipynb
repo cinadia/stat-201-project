{
 "cells": [
  {
   "cell_type": "markdown",
   "id": "b527f749-2280-4e3e-bfa6-e99a1739fe11",
   "metadata": {
    "jp-MarkdownHeadingCollapsed": true,
    "tags": []
   },
   "source": [
    "# STAT 201 Group 1 Proposal\n",
    "\n",
    "*Group Members: Cindy Cui, Devvrat Tiwari, Blasius Boniarga, Nilay Kumar, Richard Luo.*\n",
    "\n",
    "# Introduction\n",
    "\n",
    "Music is something that everyone can relate to - and if done right, a song can become so immensely popular that it is known by hundreds of millions of people around the world. What makes a song this popular? Can we predict what characteristics make a song more popular? \n",
    "\n",
    "The question we will try to answer with our project is, \n",
    "\n",
    "**Are songs that are more danceable more popular?**\n",
    "\n",
    "## Describing our Dataset\n",
    "Our dataset includes all the songs that have been on the Top 200 Weekly (Global) charts of Spotify in 2020 & 2021. We consider our population to be any song released onto the internet, and our dataset to be our sample of this population. \n",
    "\n",
    "Each song in our dataset is one observation, and the columns are features of the songs, such as the highest position that a song has been in the Spotify Top 200 Weekly Global Charts in 2020 and 2021, the number of times a song has made this chart, the overall tempo of the track, and more. \n",
    "\n",
    "### Streams\n",
    "Streams describes the overall number of streams a song has. \n",
    "\n",
    "### Danceability\n",
    "Danceability describes how suitable a song is for dancing, and is based on musical elements like tempo, rhythmic stability, beat strenght, and general regularity. A value of 0.0 is least danceable and 1.0 is most danceable.\n",
    "\n",
    "## Clarifying Our Question\n",
    "We chose our variable, danceability, based on the research of Askin and Mauskapf (2014) (1), and Interiano, Kazemi, and Wang et al (2018) (2). They both show that danceability have positive correlations with the popularity of modern pop songs. \n",
    "\n",
    "We define a song as being more popular if it has more streams.\n",
    "\n",
    "We define a song as \"more danceable\" if it has a danceability score greater than 0.5. A song is \"less danceable\" if it has a danceability score less than 0.5. \n",
    "\n",
    "Thus, our response variable is the number of streams of a song. In our analysis, we will analyze the mean and standard deviation of streams.\n"
   ]
  },
  {
   "cell_type": "markdown",
   "id": "aff3f75b-ae2f-42b3-abfe-2fc9a7e9df83",
   "metadata": {},
   "source": [
    "# Preliminary Results\n",
    "\n",
    "We begin by analyzing our data. First, we load our libraries and set our seed. "
   ]
  },
  {
   "cell_type": "code",
   "execution_count": 8,
   "id": "2b430271-1d7a-4293-b59d-6a0a5769cfff",
   "metadata": {
    "tags": []
   },
   "outputs": [],
   "source": [
    "library(tidyverse)\n",
    "library(repr)\n",
    "library(tidymodels)\n",
    "library(readr)\n",
    "\n",
    "set.seed(1)"
   ]
  },
  {
   "cell_type": "markdown",
   "id": "5c51da25-36fa-4b24-a512-2f4c90fa8b27",
   "metadata": {},
   "source": [
    "Now we read our dataset from the web, and clean and wrangle it into a tidy format. \n",
    "\n",
    "We only keep the columns `danceability` and `streams`, and categorize a song as either danceable (`TRUE`) for values > 0.5, not danceable (`FALSE`) for values < 0.5, or neither for values exactly equal to 0.5. We ignore this category, because it would cause bias to define value of exaclty 0.5 as either danceable or not danceable. "
   ]
  },
  {
   "cell_type": "code",
   "execution_count": 11,
   "id": "d0b7d395-f02c-4016-9e9b-bf98737208b5",
   "metadata": {
    "tags": []
   },
   "outputs": [
    {
     "data": {
      "text/html": [
       "<table class=\"dataframe\">\n",
       "<caption>A tibble: 6 × 3</caption>\n",
       "<thead>\n",
       "\t<tr><th scope=col>Streams</th><th scope=col>Danceability</th><th scope=col>danceable</th></tr>\n",
       "\t<tr><th scope=col>&lt;dbl&gt;</th><th scope=col>&lt;dbl&gt;</th><th scope=col>&lt;lgl&gt;</th></tr>\n",
       "</thead>\n",
       "<tbody>\n",
       "\t<tr><td>48633449</td><td>0.714</td><td>TRUE</td></tr>\n",
       "\t<tr><td>47248719</td><td>0.591</td><td>TRUE</td></tr>\n",
       "\t<tr><td>40162559</td><td>0.563</td><td>TRUE</td></tr>\n",
       "\t<tr><td>37799456</td><td>0.808</td><td>TRUE</td></tr>\n",
       "\t<tr><td>33948454</td><td>0.736</td><td>TRUE</td></tr>\n",
       "\t<tr><td>30071134</td><td>0.610</td><td>TRUE</td></tr>\n",
       "</tbody>\n",
       "</table>\n"
      ],
      "text/latex": [
       "A tibble: 6 × 3\n",
       "\\begin{tabular}{lll}\n",
       " Streams & Danceability & danceable\\\\\n",
       " <dbl> & <dbl> & <lgl>\\\\\n",
       "\\hline\n",
       "\t 48633449 & 0.714 & TRUE\\\\\n",
       "\t 47248719 & 0.591 & TRUE\\\\\n",
       "\t 40162559 & 0.563 & TRUE\\\\\n",
       "\t 37799456 & 0.808 & TRUE\\\\\n",
       "\t 33948454 & 0.736 & TRUE\\\\\n",
       "\t 30071134 & 0.610 & TRUE\\\\\n",
       "\\end{tabular}\n"
      ],
      "text/markdown": [
       "\n",
       "A tibble: 6 × 3\n",
       "\n",
       "| Streams &lt;dbl&gt; | Danceability &lt;dbl&gt; | danceable &lt;lgl&gt; |\n",
       "|---|---|---|\n",
       "| 48633449 | 0.714 | TRUE |\n",
       "| 47248719 | 0.591 | TRUE |\n",
       "| 40162559 | 0.563 | TRUE |\n",
       "| 37799456 | 0.808 | TRUE |\n",
       "| 33948454 | 0.736 | TRUE |\n",
       "| 30071134 | 0.610 | TRUE |\n",
       "\n"
      ],
      "text/plain": [
       "  Streams  Danceability danceable\n",
       "1 48633449 0.714        TRUE     \n",
       "2 47248719 0.591        TRUE     \n",
       "3 40162559 0.563        TRUE     \n",
       "4 37799456 0.808        TRUE     \n",
       "5 33948454 0.736        TRUE     \n",
       "6 30071134 0.610        TRUE     "
      ]
     },
     "metadata": {},
     "output_type": "display_data"
    },
    {
     "data": {
      "text/html": [
       "<table class=\"dataframe\">\n",
       "<caption>A tibble: 6 × 23</caption>\n",
       "<thead>\n",
       "\t<tr><th scope=col>Index</th><th scope=col>Highest Charting Position</th><th scope=col>Number of Times Charted</th><th scope=col>Week of Highest Charting</th><th scope=col>Song Name</th><th scope=col>Streams</th><th scope=col>Artist</th><th scope=col>Artist Followers</th><th scope=col>Song ID</th><th scope=col>Genre</th><th scope=col>⋯</th><th scope=col>Danceability</th><th scope=col>Energy</th><th scope=col>Loudness</th><th scope=col>Speechiness</th><th scope=col>Acousticness</th><th scope=col>Liveness</th><th scope=col>Tempo</th><th scope=col>Duration (ms)</th><th scope=col>Valence</th><th scope=col>Chord</th></tr>\n",
       "\t<tr><th scope=col>&lt;dbl&gt;</th><th scope=col>&lt;dbl&gt;</th><th scope=col>&lt;dbl&gt;</th><th scope=col>&lt;chr&gt;</th><th scope=col>&lt;chr&gt;</th><th scope=col>&lt;dbl&gt;</th><th scope=col>&lt;chr&gt;</th><th scope=col>&lt;dbl&gt;</th><th scope=col>&lt;chr&gt;</th><th scope=col>&lt;chr&gt;</th><th scope=col>⋯</th><th scope=col>&lt;dbl&gt;</th><th scope=col>&lt;dbl&gt;</th><th scope=col>&lt;dbl&gt;</th><th scope=col>&lt;dbl&gt;</th><th scope=col>&lt;dbl&gt;</th><th scope=col>&lt;dbl&gt;</th><th scope=col>&lt;dbl&gt;</th><th scope=col>&lt;dbl&gt;</th><th scope=col>&lt;dbl&gt;</th><th scope=col>&lt;chr&gt;</th></tr>\n",
       "</thead>\n",
       "<tbody>\n",
       "\t<tr><td>1</td><td>1</td><td> 8</td><td>2021-07-23--2021-07-30</td><td>Beggin'                          </td><td>48633449</td><td>Måneskin      </td><td> 3377762</td><td>3Wrjm47oTz2sjIgck11l5e</td><td>['indie rock italiano', 'italian pop']</td><td>⋯</td><td>0.714</td><td>0.800</td><td>-4.808</td><td>0.0504</td><td>0.1270</td><td>0.3590</td><td>134.002</td><td>211560</td><td>0.589</td><td>B    </td></tr>\n",
       "\t<tr><td>2</td><td>2</td><td> 3</td><td>2021-07-23--2021-07-30</td><td>STAY (with Justin Bieber)        </td><td>47248719</td><td>The Kid LAROI </td><td> 2230022</td><td>5HCyWlXZPP0y6Gqq8TgA20</td><td>['australian hip hop']                </td><td>⋯</td><td>0.591</td><td>0.764</td><td>-5.484</td><td>0.0483</td><td>0.0383</td><td>0.1030</td><td>169.928</td><td>141806</td><td>0.478</td><td>C#/Db</td></tr>\n",
       "\t<tr><td>3</td><td>1</td><td>11</td><td>2021-06-25--2021-07-02</td><td>good 4 u                         </td><td>40162559</td><td>Olivia Rodrigo</td><td> 6266514</td><td>4ZtFanR9U6ndgddUvNcjcG</td><td>['pop']                               </td><td>⋯</td><td>0.563</td><td>0.664</td><td>-5.044</td><td>0.1540</td><td>0.3350</td><td>0.0849</td><td>166.928</td><td>178147</td><td>0.688</td><td>A    </td></tr>\n",
       "\t<tr><td>4</td><td>3</td><td> 5</td><td>2021-07-02--2021-07-09</td><td>Bad Habits                       </td><td>37799456</td><td>Ed Sheeran    </td><td>83293380</td><td>6PQ88X9TkUIAUIZJHW2upE</td><td>['pop', 'uk pop']                     </td><td>⋯</td><td>0.808</td><td>0.897</td><td>-3.712</td><td>0.0348</td><td>0.0469</td><td>0.3640</td><td>126.026</td><td>231041</td><td>0.591</td><td>B    </td></tr>\n",
       "\t<tr><td>5</td><td>5</td><td> 1</td><td>2021-07-23--2021-07-30</td><td>INDUSTRY BABY (feat. Jack Harlow)</td><td>33948454</td><td>Lil Nas X     </td><td> 5473565</td><td>27NovPIUIRrOZoCHxABJwK</td><td>['lgbtq+ hip hop', 'pop rap']         </td><td>⋯</td><td>0.736</td><td>0.704</td><td>-7.409</td><td>0.0615</td><td>0.0203</td><td>0.0501</td><td>149.995</td><td>212000</td><td>0.894</td><td>D#/Eb</td></tr>\n",
       "\t<tr><td>6</td><td>1</td><td>18</td><td>2021-05-07--2021-05-14</td><td>MONTERO (Call Me By Your Name)   </td><td>30071134</td><td>Lil Nas X     </td><td> 5473565</td><td>67BtfxlNbhBmCDR2L2l8qd</td><td>['lgbtq+ hip hop', 'pop rap']         </td><td>⋯</td><td>0.610</td><td>0.508</td><td>-6.682</td><td>0.1520</td><td>0.2970</td><td>0.3840</td><td>178.818</td><td>137876</td><td>0.758</td><td>G#/Ab</td></tr>\n",
       "</tbody>\n",
       "</table>\n"
      ],
      "text/latex": [
       "A tibble: 6 × 23\n",
       "\\begin{tabular}{lllllllllllllllllllll}\n",
       " Index & Highest Charting Position & Number of Times Charted & Week of Highest Charting & Song Name & Streams & Artist & Artist Followers & Song ID & Genre & ⋯ & Danceability & Energy & Loudness & Speechiness & Acousticness & Liveness & Tempo & Duration (ms) & Valence & Chord\\\\\n",
       " <dbl> & <dbl> & <dbl> & <chr> & <chr> & <dbl> & <chr> & <dbl> & <chr> & <chr> & ⋯ & <dbl> & <dbl> & <dbl> & <dbl> & <dbl> & <dbl> & <dbl> & <dbl> & <dbl> & <chr>\\\\\n",
       "\\hline\n",
       "\t 1 & 1 &  8 & 2021-07-23--2021-07-30 & Beggin'                           & 48633449 & Måneskin       &  3377762 & 3Wrjm47oTz2sjIgck11l5e & {[}'indie rock italiano', 'italian pop'{]} & ⋯ & 0.714 & 0.800 & -4.808 & 0.0504 & 0.1270 & 0.3590 & 134.002 & 211560 & 0.589 & B    \\\\\n",
       "\t 2 & 2 &  3 & 2021-07-23--2021-07-30 & STAY (with Justin Bieber)         & 47248719 & The Kid LAROI  &  2230022 & 5HCyWlXZPP0y6Gqq8TgA20 & {[}'australian hip hop'{]}                 & ⋯ & 0.591 & 0.764 & -5.484 & 0.0483 & 0.0383 & 0.1030 & 169.928 & 141806 & 0.478 & C\\#/Db\\\\\n",
       "\t 3 & 1 & 11 & 2021-06-25--2021-07-02 & good 4 u                          & 40162559 & Olivia Rodrigo &  6266514 & 4ZtFanR9U6ndgddUvNcjcG & {[}'pop'{]}                                & ⋯ & 0.563 & 0.664 & -5.044 & 0.1540 & 0.3350 & 0.0849 & 166.928 & 178147 & 0.688 & A    \\\\\n",
       "\t 4 & 3 &  5 & 2021-07-02--2021-07-09 & Bad Habits                        & 37799456 & Ed Sheeran     & 83293380 & 6PQ88X9TkUIAUIZJHW2upE & {[}'pop', 'uk pop'{]}                      & ⋯ & 0.808 & 0.897 & -3.712 & 0.0348 & 0.0469 & 0.3640 & 126.026 & 231041 & 0.591 & B    \\\\\n",
       "\t 5 & 5 &  1 & 2021-07-23--2021-07-30 & INDUSTRY BABY (feat. Jack Harlow) & 33948454 & Lil Nas X      &  5473565 & 27NovPIUIRrOZoCHxABJwK & {[}'lgbtq+ hip hop', 'pop rap'{]}          & ⋯ & 0.736 & 0.704 & -7.409 & 0.0615 & 0.0203 & 0.0501 & 149.995 & 212000 & 0.894 & D\\#/Eb\\\\\n",
       "\t 6 & 1 & 18 & 2021-05-07--2021-05-14 & MONTERO (Call Me By Your Name)    & 30071134 & Lil Nas X      &  5473565 & 67BtfxlNbhBmCDR2L2l8qd & {[}'lgbtq+ hip hop', 'pop rap'{]}          & ⋯ & 0.610 & 0.508 & -6.682 & 0.1520 & 0.2970 & 0.3840 & 178.818 & 137876 & 0.758 & G\\#/Ab\\\\\n",
       "\\end{tabular}\n"
      ],
      "text/markdown": [
       "\n",
       "A tibble: 6 × 23\n",
       "\n",
       "| Index &lt;dbl&gt; | Highest Charting Position &lt;dbl&gt; | Number of Times Charted &lt;dbl&gt; | Week of Highest Charting &lt;chr&gt; | Song Name &lt;chr&gt; | Streams &lt;dbl&gt; | Artist &lt;chr&gt; | Artist Followers &lt;dbl&gt; | Song ID &lt;chr&gt; | Genre &lt;chr&gt; | ⋯ ⋯ | Danceability &lt;dbl&gt; | Energy &lt;dbl&gt; | Loudness &lt;dbl&gt; | Speechiness &lt;dbl&gt; | Acousticness &lt;dbl&gt; | Liveness &lt;dbl&gt; | Tempo &lt;dbl&gt; | Duration (ms) &lt;dbl&gt; | Valence &lt;dbl&gt; | Chord &lt;chr&gt; |\n",
       "|---|---|---|---|---|---|---|---|---|---|---|---|---|---|---|---|---|---|---|---|---|\n",
       "| 1 | 1 |  8 | 2021-07-23--2021-07-30 | Beggin'                           | 48633449 | Måneskin       |  3377762 | 3Wrjm47oTz2sjIgck11l5e | ['indie rock italiano', 'italian pop'] | ⋯ | 0.714 | 0.800 | -4.808 | 0.0504 | 0.1270 | 0.3590 | 134.002 | 211560 | 0.589 | B     |\n",
       "| 2 | 2 |  3 | 2021-07-23--2021-07-30 | STAY (with Justin Bieber)         | 47248719 | The Kid LAROI  |  2230022 | 5HCyWlXZPP0y6Gqq8TgA20 | ['australian hip hop']                 | ⋯ | 0.591 | 0.764 | -5.484 | 0.0483 | 0.0383 | 0.1030 | 169.928 | 141806 | 0.478 | C#/Db |\n",
       "| 3 | 1 | 11 | 2021-06-25--2021-07-02 | good 4 u                          | 40162559 | Olivia Rodrigo |  6266514 | 4ZtFanR9U6ndgddUvNcjcG | ['pop']                                | ⋯ | 0.563 | 0.664 | -5.044 | 0.1540 | 0.3350 | 0.0849 | 166.928 | 178147 | 0.688 | A     |\n",
       "| 4 | 3 |  5 | 2021-07-02--2021-07-09 | Bad Habits                        | 37799456 | Ed Sheeran     | 83293380 | 6PQ88X9TkUIAUIZJHW2upE | ['pop', 'uk pop']                      | ⋯ | 0.808 | 0.897 | -3.712 | 0.0348 | 0.0469 | 0.3640 | 126.026 | 231041 | 0.591 | B     |\n",
       "| 5 | 5 |  1 | 2021-07-23--2021-07-30 | INDUSTRY BABY (feat. Jack Harlow) | 33948454 | Lil Nas X      |  5473565 | 27NovPIUIRrOZoCHxABJwK | ['lgbtq+ hip hop', 'pop rap']          | ⋯ | 0.736 | 0.704 | -7.409 | 0.0615 | 0.0203 | 0.0501 | 149.995 | 212000 | 0.894 | D#/Eb |\n",
       "| 6 | 1 | 18 | 2021-05-07--2021-05-14 | MONTERO (Call Me By Your Name)    | 30071134 | Lil Nas X      |  5473565 | 67BtfxlNbhBmCDR2L2l8qd | ['lgbtq+ hip hop', 'pop rap']          | ⋯ | 0.610 | 0.508 | -6.682 | 0.1520 | 0.2970 | 0.3840 | 178.818 | 137876 | 0.758 | G#/Ab |\n",
       "\n"
      ],
      "text/plain": [
       "  Index Highest Charting Position Number of Times Charted\n",
       "1 1     1                          8                     \n",
       "2 2     2                          3                     \n",
       "3 3     1                         11                     \n",
       "4 4     3                          5                     \n",
       "5 5     5                          1                     \n",
       "6 6     1                         18                     \n",
       "  Week of Highest Charting Song Name                         Streams \n",
       "1 2021-07-23--2021-07-30   Beggin'                           48633449\n",
       "2 2021-07-23--2021-07-30   STAY (with Justin Bieber)         47248719\n",
       "3 2021-06-25--2021-07-02   good 4 u                          40162559\n",
       "4 2021-07-02--2021-07-09   Bad Habits                        37799456\n",
       "5 2021-07-23--2021-07-30   INDUSTRY BABY (feat. Jack Harlow) 33948454\n",
       "6 2021-05-07--2021-05-14   MONTERO (Call Me By Your Name)    30071134\n",
       "  Artist         Artist Followers Song ID               \n",
       "1 Måneskin        3377762         3Wrjm47oTz2sjIgck11l5e\n",
       "2 The Kid LAROI   2230022         5HCyWlXZPP0y6Gqq8TgA20\n",
       "3 Olivia Rodrigo  6266514         4ZtFanR9U6ndgddUvNcjcG\n",
       "4 Ed Sheeran     83293380         6PQ88X9TkUIAUIZJHW2upE\n",
       "5 Lil Nas X       5473565         27NovPIUIRrOZoCHxABJwK\n",
       "6 Lil Nas X       5473565         67BtfxlNbhBmCDR2L2l8qd\n",
       "  Genre                                  ⋯ Danceability Energy Loudness\n",
       "1 ['indie rock italiano', 'italian pop'] ⋯ 0.714        0.800  -4.808  \n",
       "2 ['australian hip hop']                 ⋯ 0.591        0.764  -5.484  \n",
       "3 ['pop']                                ⋯ 0.563        0.664  -5.044  \n",
       "4 ['pop', 'uk pop']                      ⋯ 0.808        0.897  -3.712  \n",
       "5 ['lgbtq+ hip hop', 'pop rap']          ⋯ 0.736        0.704  -7.409  \n",
       "6 ['lgbtq+ hip hop', 'pop rap']          ⋯ 0.610        0.508  -6.682  \n",
       "  Speechiness Acousticness Liveness Tempo   Duration (ms) Valence Chord\n",
       "1 0.0504      0.1270       0.3590   134.002 211560        0.589   B    \n",
       "2 0.0483      0.0383       0.1030   169.928 141806        0.478   C#/Db\n",
       "3 0.1540      0.3350       0.0849   166.928 178147        0.688   A    \n",
       "4 0.0348      0.0469       0.3640   126.026 231041        0.591   B    \n",
       "5 0.0615      0.0203       0.0501   149.995 212000        0.894   D#/Eb\n",
       "6 0.1520      0.2970       0.3840   178.818 137876        0.758   G#/Ab"
      ]
     },
     "metadata": {},
     "output_type": "display_data"
    },
    {
     "name": "stderr",
     "output_type": "stream",
     "text": [
      "Warning message:\n",
      "“Unknown or uninitialised column: `Artist`.”\n"
     ]
    },
    {
     "data": {
      "text/html": [
       "<table class=\"dataframe\">\n",
       "<caption>A data.frame: 0 × 1</caption>\n",
       "<thead>\n",
       "\t<tr><th scope=col>Count</th></tr>\n",
       "\t<tr><th scope=col>&lt;int&gt;</th></tr>\n",
       "</thead>\n",
       "<tbody>\n",
       "</tbody>\n",
       "</table>\n"
      ],
      "text/latex": [
       "A data.frame: 0 × 1\n",
       "\\begin{tabular}{l}\n",
       " Count\\\\\n",
       " <int>\\\\\n",
       "\\hline\n",
       "\\end{tabular}\n"
      ],
      "text/markdown": [
       "\n",
       "A data.frame: 0 × 1\n",
       "\n",
       "| Count &lt;int&gt; |\n",
       "|---|\n",
       "\n"
      ],
      "text/plain": [
       "     Count"
      ]
     },
     "metadata": {},
     "output_type": "display_data"
    }
   ],
   "source": [
    "spotify_data <- read_csv(\"https://github.com/cinadia/stat-201-project/raw/main/data/spotify_dataset.csv\", show_col_types = FALSE) %>%\n",
    "    na.omit() %>%\n",
    "    select(\"Streams\", \"Danceability\") %>%\n",
    "    filter(Danceability != 0.5) %>%\n",
    "    mutate(danceable = Danceability > 0.5) \n",
    "\n",
    "head(spotify_data)\n",
    "\n",
    "spotify_raw_data <- read_csv(\"https://github.com/cinadia/stat-201-project/raw/main/data/spotify_dataset.csv\", show_col_types = FALSE)\n",
    "head(spotify_raw_data)\n",
    "\n",
    "# Calculate the count of songs by each artist\n",
    "artist_counts <- table(spotify_data$Artist)\n",
    "\n",
    "# Create a data frame with artist names and their counts\n",
    "artist_wise_count_df <- data.frame(Artist = names(artist_counts), Count = as.integer(artist_counts))\n",
    "\n",
    "# Display the first few rows of the data frame\n",
    "head(artist_wise_count_df)"
   ]
  },
  {
   "cell_type": "markdown",
   "id": "3d6debc3-b95a-44b1-b120-0ab18fffeeed",
   "metadata": {},
   "source": [
    "To further examine our data, we compute the mean number of streams, as well as the standard deviation of our streams."
   ]
  },
  {
   "cell_type": "code",
   "execution_count": null,
   "id": "480c26ca-8cd9-4c5c-83d4-9106c16a5e77",
   "metadata": {
    "tags": []
   },
   "outputs": [],
   "source": [
    "stats <- spotify_data %>%\n",
    "    summarise(mean_streams = mean(Streams), \n",
    "              sd_streams = sd(Streams),\n",
    "              min_streams = min(Streams), \n",
    "              max_streams = max(Streams)) \n",
    "stats\n",
    "\n",
    "danceability_stats <- spotify_data %>%\n",
    "    summarise(median_danceability = median(Danceability))\n",
    "danceability_stats\n",
    "\n",
    "summary_data <- summary(spotify_data)\n",
    "summary_data"
   ]
  },
  {
   "cell_type": "markdown",
   "id": "c4c95ae7-98e8-4d7c-8aa7-68dc4dd56442",
   "metadata": {},
   "source": [
    "From this, we can tell that our range of minimum and maximum streams is quite large, and the standard deviation tell us that our data is quite spread out. \n",
    "\n",
    "To better see this, we plot our data in a sample distribution. "
   ]
  },
  {
   "cell_type": "code",
   "execution_count": null,
   "id": "6f0ad72a-5fa6-452b-a64c-1d6b45f2917d",
   "metadata": {
    "tags": []
   },
   "outputs": [],
   "source": [
    "sample_dist <- spotify_data %>%\n",
    "    ggplot() +\n",
    "    geom_histogram(aes(x = Streams), binwidth = 100000) +\n",
    "    xlab(\"Number of streams\") +\n",
    "    ggtitle(\"Sample Distribution of Spotify's Top 200 Weekly Global Charts in 2020 and 2021\")\n",
    "sample_dist"
   ]
  },
  {
   "cell_type": "markdown",
   "id": "5fc6b1eb-1073-43a7-9c58-fd535bb0b8b9",
   "metadata": {},
   "source": [
    "Indeed, we see that our distribution is right-skewed, with the vast majority of songs having less than 10,000,000 streams."
   ]
  },
  {
   "cell_type": "markdown",
   "id": "7c972ee4-18f2-4d11-9611-8bb85cecc2b0",
   "metadata": {},
   "source": [
    "**TODO: IDK WHAT OTHER KINDS OF GRAPHS TO PLOT**"
   ]
  },
  {
   "cell_type": "markdown",
   "id": "9b4ae344-f1f5-4034-9c02-2e3b4505554e",
   "metadata": {},
   "source": [
    "# Methods\n",
    "\n",
    "**...Our preliminary results are trustworthy because....**\n",
    "\n",
    "**...However, our preliminary results are not trustworthy because...**\n",
    "\n",
    "Therefore, we plan to conduct a hypothesis test and construct a confidence interval to address these concerns. \n",
    "\n",
    "Our hypothesis test is as follows: \n",
    "\n",
    "$H_0$: The mean number of streams of a more danceable song is equivalent to the mean number of streams of a less danceable song. \n",
    " \n",
    "$H_1$: The mean number of streams of a more danceable song is greater than the mean number of streams of a less danceable song. \n",
    "\n",
    "We will also construct a 95% confidence interval **.... to do what...??? to show what???**\n",
    "\n",
    "\n",
    "## Reflections on our final report\n",
    "Based on previous research, we expect that more danceable songs will be more popular. This could impact how artists create music since artists want their work to be recognized, which is easier to do when your work is more popular; thus, artists could tailor their songs to be more danceable to increase the chances that their song will be more popular. This brings up future questions of what other characteristics makes songs more popular, and perhaps how these characteristics change over time, specifically with how rapidly social media trends change nowadays. "
   ]
  },
  {
   "cell_type": "markdown",
   "id": "223d1d82-6fe5-43aa-b9c5-7d1c9f606052",
   "metadata": {},
   "source": [
    "# Bibliography\n",
    "\n",
    "\n",
    "1. Askin, N., Mauskapf, M. (2014). Cultural Attributes and their Influence on Consumption Patterns in Popular Music. *Social Informatics*. 508-530. doi:10.1007/978-3-319-13734-6_36. \n",
    "\n",
    "2. Interiano, M., Kazemi, K., Wang, L. et al. (2018). Musical trends and predictability of success in contemporary songs in and out of the top charts. *Royal Society Open Science*, *5*. doi:10.1098/rsos.171274. \n"
   ]
  }
 ],
 "metadata": {
  "kernelspec": {
   "display_name": "R",
   "language": "R",
   "name": "ir"
  },
  "language_info": {
   "codemirror_mode": "r",
   "file_extension": ".r",
   "mimetype": "text/x-r-source",
   "name": "R",
   "pygments_lexer": "r",
   "version": "4.2.3"
  }
 },
 "nbformat": 4,
 "nbformat_minor": 5
}
